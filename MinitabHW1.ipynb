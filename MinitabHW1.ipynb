{
 "cells": [
  {
   "cell_type": "markdown",
   "source": [
    "Import Package"
   ],
   "metadata": {
    "collapsed": false
   }
  },
  {
   "cell_type": "code",
   "execution_count": 1,
   "metadata": {
    "collapsed": true
   },
   "outputs": [],
   "source": [
    "import numpy as np\n",
    "import pandas as pd\n",
    "import statsmodels.api as sm\n",
    "from statsmodels.formula.api import ols\n",
    "import matplotlib.pyplot as plt\n",
    "import seaborn as sns"
   ]
  },
  {
   "cell_type": "markdown",
   "source": [
    "Create Data"
   ],
   "metadata": {
    "collapsed": false
   }
  },
  {
   "cell_type": "code",
   "execution_count": 2,
   "outputs": [
    {
     "name": "stdout",
     "output_type": "stream",
     "text": [
      "   Detergent TemperatureLevel  WaterTemperature\n",
      "0          X             cold                 4\n",
      "1          X             cold                 5\n",
      "2          X             cold                 5\n",
      "3          X             cold                 6\n",
      "4          X             cold                 5\n",
      "5          X             warm                 7\n",
      "6          X             warm                 8\n",
      "7          X             warm                 9\n",
      "8          X             warm                12\n",
      "9          X             warm                 3\n",
      "10         X              hot                10\n",
      "11         X              hot                11\n",
      "12         X              hot                12\n",
      "13         X              hot                19\n",
      "14         X              hot                15\n",
      "15         Y             cold                 4\n",
      "16         Y             cold                 4\n",
      "17         Y             cold                 6\n",
      "18         Y             cold                 6\n",
      "19         Y             cold                 5\n",
      "20         Y             warm                12\n",
      "21         Y             warm                12\n",
      "22         Y             warm                13\n",
      "23         Y             warm                15\n",
      "24         Y             warm                13\n",
      "25         Y              hot                10\n",
      "26         Y              hot                12\n",
      "27         Y              hot                13\n",
      "28         Y              hot                13\n",
      "29         Y              hot                12\n"
     ]
    }
   ],
   "source": [
    "df = pd.DataFrame({\"Detergent\":np.repeat([\"X\",\"Y\"],15),\n",
    "                   \"TemperatureLevel\":np.tile(np.repeat([\"cold\",\"warm\",\"hot\"],5),2),\n",
    "                   \"WaterTemperature\":[4,5,5,6,5,7,8,9,12,3,10,11,12,19,15,4,4,6,6,5,12,12,13,15,13,10,12,13,13,12]})\n",
    "print(df)"
   ],
   "metadata": {
    "collapsed": false,
    "pycharm": {
     "name": "#%%\n"
    }
   }
  },
  {
   "cell_type": "markdown",
   "source": [
    "Two-Way ANOVA"
   ],
   "metadata": {
    "collapsed": false
   }
  },
  {
   "cell_type": "code",
   "execution_count": 3,
   "outputs": [
    {
     "name": "stdout",
     "output_type": "stream",
     "text": [
      "================================TwoWay ANOVA================================\n",
      "                                      sum_sq    df          F        PR(>F)\n",
      "C(Detergent)                       12.033333   1.0   2.533333  1.245517e-01\n",
      "C(TemperatureLevel)               312.466667   2.0  32.891228  1.331181e-07\n",
      "C(Detergent):C(TemperatureLevel)   60.466667   2.0   6.364912  6.057712e-03\n",
      "Residual                          114.000000  24.0        NaN           NaN\n",
      "\n",
      "=================Analysis of Variance for Water Temperature=================\n",
      "                                    df      sum_sq     mean_sq          F  \\\n",
      "C(Detergent)                       1.0   12.033333   12.033333   2.533333   \n",
      "C(TemperatureLevel)                2.0  312.466667  156.233333  32.891228   \n",
      "C(Detergent):C(TemperatureLevel)   2.0   60.466667   30.233333   6.364912   \n",
      "Residual                          24.0  114.000000    4.750000        NaN   \n",
      "\n",
      "                                        PR(>F)  \n",
      "C(Detergent)                      1.245517e-01  \n",
      "C(TemperatureLevel)               1.331181e-07  \n",
      "C(Detergent):C(TemperatureLevel)  6.057712e-03  \n",
      "Residual                                   NaN  \n",
      "\n",
      "================================Model  Summary================================\n",
      "                            OLS Regression Results                            \n",
      "==============================================================================\n",
      "Dep. Variable:       WaterTemperature   R-squared:                       0.772\n",
      "Model:                            OLS   Adj. R-squared:                  0.724\n",
      "Method:                 Least Squares   F-statistic:                     16.21\n",
      "Date:                Fri, 15 Apr 2022   Prob (F-statistic):           5.14e-07\n",
      "Time:                        18:51:44   Log-Likelihood:                -62.593\n",
      "No. Observations:                  30   AIC:                             137.2\n",
      "Df Residuals:                      24   BIC:                             145.6\n",
      "Df Model:                           5                                         \n",
      "Covariance Type:            nonrobust                                         \n",
      "=================================================================================================================\n",
      "                                                    coef    std err          t      P>|t|      [0.025      0.975]\n",
      "-----------------------------------------------------------------------------------------------------------------\n",
      "Intercept                                         5.0000      0.975      5.130      0.000       2.988       7.012\n",
      "C(Detergent)[T.Y]                              1.998e-15      1.378   1.45e-15      1.000      -2.845       2.845\n",
      "C(TemperatureLevel)[T.hot]                        8.4000      1.378      6.094      0.000       5.555      11.245\n",
      "C(TemperatureLevel)[T.warm]                       2.8000      1.378      2.031      0.053      -0.045       5.645\n",
      "C(Detergent)[T.Y]:C(TemperatureLevel)[T.hot]     -1.4000      1.949     -0.718      0.480      -5.423       2.623\n",
      "C(Detergent)[T.Y]:C(TemperatureLevel)[T.warm]     5.2000      1.949      2.668      0.013       1.177       9.223\n",
      "==============================================================================\n",
      "Omnibus:                        5.305   Durbin-Watson:                   1.722\n",
      "Prob(Omnibus):                  0.070   Jarque-Bera (JB):                4.516\n",
      "Skew:                           0.399   Prob(JB):                        0.105\n",
      "Kurtosis:                       4.726   Cond. No.                         9.77\n",
      "==============================================================================\n",
      "\n",
      "Notes:\n",
      "[1] Standard Errors assume that the covariance matrix of the errors is correctly specified.\n"
     ]
    }
   ],
   "source": [
    "print(\"=\"*32+\"TwoWay ANOVA\"+\"=\"*32)\n",
    "model = ols('WaterTemperature ~ C(Detergent) + C(TemperatureLevel) + C(Detergent):C(TemperatureLevel)', data=df).fit()\n",
    "print(sm.stats.anova_lm(model, typ=2))\n",
    "print(\"\\n\"+\"=\"*17+\"Analysis of Variance for Water Temperature\"+\"=\"*17)\n",
    "print(sm.stats.anova_lm(model, typ=1))\n",
    "print(\"\\n\"+\"=\"*32+\"Model  Summary\"+\"=\"*32)\n",
    "print(model.summary())"
   ],
   "metadata": {
    "collapsed": false,
    "pycharm": {
     "name": "#%%\n"
    }
   }
  },
  {
   "cell_type": "markdown",
   "source": [
    "Create list of residuals, list of sorted residuals, list of accumulated percent for sorted residuals, and list of observation order"
   ],
   "metadata": {
    "collapsed": false
   }
  },
  {
   "cell_type": "code",
   "execution_count": 4,
   "outputs": [],
   "source": [
    "residuals = model.resid\n",
    "residuals_list = residuals.tolist()\n",
    "residuals_list_sorted = sorted(residuals_list)\n",
    "percent_list = []\n",
    "observation_order_list = []\n",
    "for i in range(1,31):\n",
    "    percent = 100/30*i\n",
    "    percent_list.append(percent)\n",
    "for i in range(1,31):\n",
    "    observation_order_list.append(i)"
   ],
   "metadata": {
    "collapsed": false,
    "pycharm": {
     "name": "#%%\n"
    }
   }
  },
  {
   "cell_type": "markdown",
   "source": [
    "Plot the Normal Probability Plot"
   ],
   "metadata": {
    "collapsed": false
   }
  },
  {
   "cell_type": "code",
   "execution_count": 5,
   "outputs": [
    {
     "data": {
      "text/plain": "<Figure size 432x288 with 1 Axes>",
      "image/png": "[encoded data removed]"
     },
     "metadata": {
      "needs_background": "light"
     },
     "output_type": "display_data"
    }
   ],
   "source": [
    "sns.regplot(x=residuals_list_sorted, y=percent_list, color='r')\n",
    "plt.plot(residuals_list_sorted, percent_list, 'o', color='b')\n",
    "plt.title('Normal Probability Plot')\n",
    "plt.xlabel('Residuals')\n",
    "plt.ylabel('Percent')\n",
    "plt.xticks(range(-5,7,2))\n",
    "plt.yticks(range(0,110,10))\n",
    "plt.axis((-6,6,1,105))\n",
    "plt.show()"
   ],
   "metadata": {
    "collapsed": false,
    "pycharm": {
     "name": "#%%\n"
    }
   }
  },
  {
   "cell_type": "markdown",
   "source": [
    "Plot the Versus Fit"
   ],
   "metadata": {
    "collapsed": false
   }
  },
  {
   "cell_type": "code",
   "execution_count": 6,
   "outputs": [
    {
     "data": {
      "text/plain": "<Figure size 432x288 with 1 Axes>",
      "image/png": "[encoded data removed]"
     },
     "metadata": {
      "needs_background": "light"
     },
     "output_type": "display_data"
    }
   ],
   "source": [
    "plt.plot(model.fittedvalues,model.resid, color='b', marker='o', linestyle=\"None\")\n",
    "plt.title('Versus Fit')\n",
    "plt.xlabel('Fitting Value')\n",
    "plt.ylabel('Residual')\n",
    "plt.xticks(range(4,15,2))\n",
    "plt.yticks(range(-6,8,3))\n",
    "plt.show()"
   ],
   "metadata": {
    "collapsed": false,
    "pycharm": {
     "name": "#%%\n"
    }
   }
  },
  {
   "cell_type": "markdown",
   "source": [
    "Plot the Histogram"
   ],
   "metadata": {
    "collapsed": false
   }
  },
  {
   "cell_type": "code",
   "execution_count": 7,
   "outputs": [
    {
     "data": {
      "text/plain": "<Figure size 432x288 with 1 Axes>",
      "image/png": "[encoded data removed]"
     },
     "metadata": {
      "needs_background": "light"
     },
     "output_type": "display_data"
    }
   ],
   "source": [
    "plt.hist(residuals_list, bins=10, histtype='bar', ec='k', bottom=2)\n",
    "plt.title('Histogram')\n",
    "plt.xlabel('Residuals')\n",
    "plt.ylabel('Frequency')\n",
    "plt.xticks(range(-6,8,2))\n",
    "plt.show()"
   ],
   "metadata": {
    "collapsed": false,
    "pycharm": {
     "name": "#%%\n"
    }
   }
  },
  {
   "cell_type": "markdown",
   "source": [
    "Plot the Versus Order"
   ],
   "metadata": {
    "collapsed": false
   }
  },
  {
   "cell_type": "code",
   "execution_count": 8,
   "outputs": [
    {
     "data": {
      "text/plain": "<Figure size 432x288 with 1 Axes>",
      "image/png": "[encoded data removed]"
     },
     "metadata": {
      "needs_background": "light"
     },
     "output_type": "display_data"
    }
   ],
   "source": [
    "plt.plot(observation_order_list,residuals_list,'o-',color = 'b')\n",
    "plt.title('Versus Order')\n",
    "plt.xlabel('Observation Order')\n",
    "plt.ylabel('Residuals')\n",
    "plt.xticks(range(0,31,2))\n",
    "plt.show()"
   ],
   "metadata": {
    "collapsed": false,
    "pycharm": {
     "name": "#%%\n"
    }
   }
  }
 ],
 "metadata": {
  "kernelspec": {
   "display_name": "Python 3",
   "language": "python",
   "name": "python3"
  },
  "language_info": {
   "codemirror_mode": {
    "name": "ipython",
    "version": 2
   },
   "file_extension": ".py",
   "mimetype": "text/x-python",
   "name": "python",
   "nbconvert_exporter": "python",
   "pygments_lexer": "ipython2",
   "version": "2.7.6"
  }
 },
 "nbformat": 4,
 "nbformat_minor": 0
}