{
 "cells": [
  {
   "cell_type": "code",
   "execution_count": 8,
   "metadata": {
    "collapsed": true
   },
   "outputs": [],
   "source": [
    "import numpy as np\n",
    "import pandas as pd\n",
    "import statsmodels.api as sm\n",
    "from statsmodels.formula.api import ols"
   ]
  },
  {
   "cell_type": "code",
   "execution_count": 14,
   "outputs": [],
   "source": [
    "# create data\n",
    "df = pd.DataFrame({\"X-Y\":[\"X\",\"X\",\"X\",\"X\",\"X\",\"X\",\"X\",\"X\",\"X\",\"X\",\"X\",\"X\",\"X\",\"X\",\"X\",\"Y\",\"Y\",\"Y\",\"Y\",\"Y\",\"Y\",\"Y\",\"Y\",\"Y\",\"Y\",\"Y\",\"Y\",\"Y\",\"Y\",\"Y\"],\n",
    "                   \"Detergent\":np.repeat([\"cold\",\"cold\",\"cold\",\"cold\",\"cold\",\"warm\",\"warm\",\"warm\",\"warm\",\"warm\",\"hot\",\"hot\",\"hot\",\"hot\",\"hot\"],2),\n",
    "                   \"WaterTemperature\":[4,5,5,6,5,7,8,9,12,3,10,11,12,19,15,4,4,6,6,5,12,12,13,15,13,10,12,13,13,12]})"
   ],
   "metadata": {
    "collapsed": false,
    "pycharm": {
     "name": "#%%\n"
    }
   }
  },
  {
   "cell_type": "code",
   "execution_count": 15,
   "outputs": [
    {
     "data": {
      "text/plain": "   X-Y Detergent  WaterTemperature\n0    X      cold                 4\n1    X      cold                 5\n2    X      cold                 5\n3    X      cold                 6\n4    X      cold                 5\n5    X      cold                 7\n6    X      cold                 8\n7    X      cold                 9\n8    X      cold                12\n9    X      cold                 3\n10   X      warm                10\n11   X      warm                11\n12   X      warm                12\n13   X      warm                19\n14   X      warm                15\n15   Y      warm                 4\n16   Y      warm                 4\n17   Y      warm                 6\n18   Y      warm                 6\n19   Y      warm                 5\n20   Y       hot                12\n21   Y       hot                12\n22   Y       hot                13\n23   Y       hot                15\n24   Y       hot                13\n25   Y       hot                10\n26   Y       hot                12\n27   Y       hot                13\n28   Y       hot                13\n29   Y       hot                12",
      "text/html": "<div>\n<style scoped>\n    .dataframe tbody tr th:only-of-type {\n        vertical-align: middle;\n    }\n\n    .dataframe tbody tr th {\n        vertical-align: top;\n    }\n\n    .dataframe thead th {\n        text-align: right;\n    }\n</style>\n<table border=\"1\" class=\"dataframe\">\n  <thead>\n    <tr style=\"text-align: right;\">\n      <th></th>\n      <th>X-Y</th>\n      <th>Detergent</th>\n      <th>WaterTemperature</th>\n    </tr>\n  </thead>\n  <tbody>\n    <tr>\n      <th>0</th>\n      <td>X</td>\n      <td>cold</td>\n      <td>4</td>\n    </tr>\n    <tr>\n      <th>1</th>\n      <td>X</td>\n      <td>cold</td>\n      <td>5</td>\n    </tr>\n    <tr>\n      <th>2</th>\n      <td>X</td>\n      <td>cold</td>\n      <td>5</td>\n    </tr>\n    <tr>\n      <th>3</th>\n      <td>X</td>\n      <td>cold</td>\n      <td>6</td>\n    </tr>\n    <tr>\n      <th>4</th>\n      <td>X</td>\n      <td>cold</td>\n      <td>5</td>\n    </tr>\n    <tr>\n      <th>5</th>\n      <td>X</td>\n      <td>cold</td>\n      <td>7</td>\n    </tr>\n    <tr>\n      <th>6</th>\n      <td>X</td>\n      <td>cold</td>\n      <td>8</td>\n    </tr>\n    <tr>\n      <th>7</th>\n      <td>X</td>\n      <td>cold</td>\n      <td>9</td>\n    </tr>\n    <tr>\n      <th>8</th>\n      <td>X</td>\n      <td>cold</td>\n      <td>12</td>\n    </tr>\n    <tr>\n      <th>9</th>\n      <td>X</td>\n      <td>cold</td>\n      <td>3</td>\n    </tr>\n    <tr>\n      <th>10</th>\n      <td>X</td>\n      <td>warm</td>\n      <td>10</td>\n    </tr>\n    <tr>\n      <th>11</th>\n      <td>X</td>\n      <td>warm</td>\n      <td>11</td>\n    </tr>\n    <tr>\n      <th>12</th>\n      <td>X</td>\n      <td>warm</td>\n      <td>12</td>\n    </tr>\n    <tr>\n      <th>13</th>\n      <td>X</td>\n      <td>warm</td>\n      <td>19</td>\n    </tr>\n    <tr>\n      <th>14</th>\n      <td>X</td>\n      <td>warm</td>\n      <td>15</td>\n    </tr>\n    <tr>\n      <th>15</th>\n      <td>Y</td>\n      <td>warm</td>\n      <td>4</td>\n    </tr>\n    <tr>\n      <th>16</th>\n      <td>Y</td>\n      <td>warm</td>\n      <td>4</td>\n    </tr>\n    <tr>\n      <th>17</th>\n      <td>Y</td>\n      <td>warm</td>\n      <td>6</td>\n    </tr>\n    <tr>\n      <th>18</th>\n      <td>Y</td>\n      <td>warm</td>\n      <td>6</td>\n    </tr>\n    <tr>\n      <th>19</th>\n      <td>Y</td>\n      <td>warm</td>\n      <td>5</td>\n    </tr>\n    <tr>\n      <th>20</th>\n      <td>Y</td>\n      <td>hot</td>\n      <td>12</td>\n    </tr>\n    <tr>\n      <th>21</th>\n      <td>Y</td>\n      <td>hot</td>\n      <td>12</td>\n    </tr>\n    <tr>\n      <th>22</th>\n      <td>Y</td>\n      <td>hot</td>\n      <td>13</td>\n    </tr>\n    <tr>\n      <th>23</th>\n      <td>Y</td>\n      <td>hot</td>\n      <td>15</td>\n    </tr>\n    <tr>\n      <th>24</th>\n      <td>Y</td>\n      <td>hot</td>\n      <td>13</td>\n    </tr>\n    <tr>\n      <th>25</th>\n      <td>Y</td>\n      <td>hot</td>\n      <td>10</td>\n    </tr>\n    <tr>\n      <th>26</th>\n      <td>Y</td>\n      <td>hot</td>\n      <td>12</td>\n    </tr>\n    <tr>\n      <th>27</th>\n      <td>Y</td>\n      <td>hot</td>\n      <td>13</td>\n    </tr>\n    <tr>\n      <th>28</th>\n      <td>Y</td>\n      <td>hot</td>\n      <td>13</td>\n    </tr>\n    <tr>\n      <th>29</th>\n      <td>Y</td>\n      <td>hot</td>\n      <td>12</td>\n    </tr>\n  </tbody>\n</table>\n</div>"
     },
     "execution_count": 15,
     "metadata": {},
     "output_type": "execute_result"
    }
   ],
   "source": [
    "#perform two-way ANOVA\n",
    "model = ols('height ~ C(water) + C(sun) + C(water):C(sun)', data=df).fit()\n",
    "sm.stats.anova_lm(model, typ=2)"
   ],
   "metadata": {
    "collapsed": false,
    "pycharm": {
     "name": "#%%\n"
    }
   }
  },
  {
   "cell_type": "code",
   "execution_count": null,
   "outputs": [],
   "source": [],
   "metadata": {
    "collapsed": false,
    "pycharm": {
     "name": "#%%\n"
    }
   }
  }
 ],
 "metadata": {
  "kernelspec": {
   "display_name": "Python 3",
   "language": "python",
   "name": "python3"
  },
  "language_info": {
   "codemirror_mode": {
    "name": "ipython",
    "version": 2
   },
   "file_extension": ".py",
   "mimetype": "text/x-python",
   "name": "python",
   "nbconvert_exporter": "python",
   "pygments_lexer": "ipython2",
   "version": "2.7.6"
  }
 },
 "nbformat": 4,
 "nbformat_minor": 0
}